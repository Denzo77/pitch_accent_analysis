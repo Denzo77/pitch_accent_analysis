{
 "nbformat": 4,
 "nbformat_minor": 2,
 "metadata": {
  "language_info": {
   "name": "python",
   "codemirror_mode": {
    "name": "ipython",
    "version": 3
   },
   "version": "3.7.6-final"
  },
  "orig_nbformat": 2,
  "file_extension": ".py",
  "mimetype": "text/x-python",
  "name": "python",
  "npconvert_exporter": "python",
  "pygments_lexer": "ipython3",
  "version": 3,
  "kernelspec": {
   "name": "python3",
   "display_name": "Python 3"
  }
 },
 "cells": [
  {
   "cell_type": "code",
   "execution_count": null,
   "metadata": {},
   "outputs": [],
   "source": [
    "import pandas as pd\n",
    "import altair as alt\n",
    "import utils\n",
    "\n",
    "IN_FILE = \"data/single_mora_words.csv\"\n"
   ]
  },
  {
   "cell_type": "code",
   "execution_count": null,
   "metadata": {},
   "outputs": [],
   "source": [
    "words = pd.read_csv(IN_FILE)[['word_id', 'sem_word_id', 'midashigo_alt', 'accent']]"
   ]
  },
  {
   "cell_type": "code",
   "execution_count": null,
   "metadata": {},
   "outputs": [],
   "source": [
    "alt.Chart(\n",
    "    words.melt(id_vars=['word_id', 'sem_word_id', 'midashigo_alt'])\n",
    ").mark_bar().encode(\n",
    "    x='midashigo_alt:N',\n",
    "    y='count()',\n",
    "    color='value:N',\n",
    ")\n"
   ]
  },
  {
   "cell_type": "code",
   "execution_count": null,
   "metadata": {},
   "outputs": [],
   "source": [
    "words = utils.get_last_kana_info(words)\n",
    "words "
   ]
  },
  {
   "cell_type": "code",
   "execution_count": null,
   "metadata": {},
   "outputs": [],
   "source": [
    "def make_chart(df, group):\n",
    "    word_count = (df.groupby([group, 'accent']).word_id.count().reset_index().rename(columns={'word_id':'word_count'}).set_index(group))\n",
    "    word_count['total'] = word_count.groupby(group).word_count.sum()\n",
    "    word_count['density'] = word_count.word_count / word_count.total\n",
    "    word_count = word_count.reset_index()\n",
    "    # return word_count.groupby(group).first()\n",
    "    return alt.Chart(word_count).mark_bar().encode(\n",
    "        x=group,\n",
    "        y='density:Q',\n",
    "        color='accent:N',\n",
    "    ).properties(\n",
    "        width=300\n",
    "    ) + alt.Chart(word_count.groupby(group).first().reset_index()).mark_text(dy=140, color='white').encode(\n",
    "        x=group,\n",
    "        text=alt.Text('total:Q')\n",
    "    )\n",
    "\n",
    "# make_chart(words, 'end_vowel')\n",
    "make_chart(words, 'is_vowel') | make_chart(words, 'end_vowel') | make_chart(words, 'onset')"
   ]
  }
 ]
}