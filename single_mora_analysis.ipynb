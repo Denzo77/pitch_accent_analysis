{
 "nbformat": 4,
 "nbformat_minor": 2,
 "metadata": {
  "language_info": {
   "name": "python",
   "codemirror_mode": {
    "name": "ipython",
    "version": 3
   },
   "version": "3.7.6-final"
  },
  "orig_nbformat": 2,
  "file_extension": ".py",
  "mimetype": "text/x-python",
  "name": "python",
  "npconvert_exporter": "python",
  "pygments_lexer": "ipython3",
  "version": 3,
  "kernelspec": {
   "name": "python3",
   "display_name": "Python 3"
  }
 },
 "cells": [
  {
   "cell_type": "markdown",
   "execution_count": null,
   "metadata": {},
   "outputs": [],
   "source": [
    "# Analysis Of Words With Single Mora\n",
    "- These tend to be words of Chinese origin.\n",
    "- There are two possible pitch accents: `[0]` and `[1]`\n",
    "- The ratio of pitch accents should be ~70% `[0]`\n",
    "\n",
    "Before running this notebook, you should generate `\"data/single_mora_words.pickle\"`\n",
    "by running `ACC_DB_parsing.ipynb`."
   ]
  },
  {
   "cell_type": "code",
   "execution_count": null,
   "metadata": {},
   "outputs": [],
   "source": [
    "import pandas as pd\n",
    "import altair as alt\n",
    "import utils\n",
    "\n",
    "IN_FILE = \"data/single_mora_words.pickle\"\n"
   ]
  },
  {
   "cell_type": "code",
   "execution_count": null,
   "metadata": {},
   "outputs": [],
   "source": [
    "words = pd.read_pickle(IN_FILE)\n",
    "words[['phoneme', 'accent']] = pd.DataFrame([[mora.get_pair() for mora in word][0] for word in words.mora], columns=['phoneme','accent'])\n",
    "words = utils.get_last_mora_info(words)\n",
    "\n",
    "words\n"
   ]
  },
  {
   "cell_type": "code",
   "execution_count": null,
   "metadata": {},
   "outputs": [],
   "source": [
    "print(\"Words that are pitch accent [1]: {:0.1f}% of population\"\n",
    "    # Accent of 2 on the first mora is equivalent to a pitch accent of [1]\n",
    "    # on the word.\n",
    "    .format((len(words[words.accent == 2]) / len(words)) * 100.0))\n"
   ]
  },
  {
   "cell_type": "code",
   "execution_count": null,
   "metadata": {},
   "outputs": [],
   "source": [
    "alt.Chart(\n",
    "    words[['word_id', 'sem_word_id', 'phoneme', 'accent']].melt(id_vars=['word_id', 'sem_word_id', 'phoneme'])\n",
    ").mark_bar().encode(\n",
    "    x='phoneme:N',\n",
    "    y='count()',\n",
    "    color='value:N',\n",
    ")\n"
   ]
  },
  {
   "cell_type": "code",
   "execution_count": null,
   "metadata": {},
   "outputs": [],
   "source": [
    "def make_chart(df, group):\n",
    "    word_count = (df.groupby([group, 'accent']).word_id.count().reset_index().rename(columns={'word_id':'word_count'}).set_index(group))\n",
    "    word_count['total'] = word_count.groupby(group).word_count.sum()\n",
    "    word_count['density'] = word_count.word_count / word_count.total\n",
    "    word_count = word_count.reset_index()\n",
    "    # return word_count.groupby(group).first()\n",
    "    return alt.Chart(word_count).mark_bar().encode(\n",
    "        x=group,\n",
    "        y='density:Q',\n",
    "        color='accent:N',\n",
    "    ).properties(\n",
    "        width=300\n",
    "    ) + alt.Chart(word_count.groupby(group).first().reset_index()).mark_text(dy=140, color='white').encode(\n",
    "        x=group,\n",
    "        text=alt.Text('total:Q')\n",
    "    )\n",
    "\n",
    "# make_chart(words, 'end_vowel')\n",
    "make_chart(words, 'is_vowel') | make_chart(words, 'end_vowel') | make_chart(words, 'onset')\n"
   ]
  }
 ]
}