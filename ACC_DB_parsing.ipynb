{
 "cells": [
  {
   "cell_type": "code",
   "execution_count": null,
   "metadata": {},
   "outputs": [],
   "source": [
    "import pandas as pd\n",
    "import utils\n",
    "\n",
    "ACCENT_FILEPATH = \"data/ACCDB_unicode.csv\"\n",
    "USEFUL_COLUMNS = [\n",
    "#     'NID', # Unique ID. Ignore as we can just use the row index for this.\n",
    "    'ID', # ID unique to word & accent (same word with different accents have new `ID`)\n",
    "    'ACT', # ??? ID unique to each word? This seems to be unique across semantic words, but doesn't distinguish accents.\n",
    "    'midashigo', # Literally \"title word/keyword/entry word\"\n",
    "    'nhk', # Kanji?\n",
    "    'kanjiexpr', # Kanji 2?\n",
    "#     'NHKexpr', # This seems to combine nhk and kanjiexpr\n",
    "    'numberchars', # This is the length of one of the other columns... (midashigo?)\n",
    "#     'nopronouncepos', # len(midashigo1)\n",
    "#     'majiri', # Literally means \"mixed\". Probably an example phrase.\n",
    "#     'kaisi', # Literally \"start\". Probably the starting location of the word within `majiri`.\n",
    "    'midashigo1', # as `midashigo`, but also adds characters for things like word boundaries.\n",
    "    'akusentosuu', # I think this is \"accent+number\". Maybe the number of different accents a word can be pronounced with?\n",
    "#     'bunshou', # Literally \"sentence\". I think this is 1 when `majiri` contains an example sentence.\n",
    "    'ac', # This seems to be a list of mora accents. Note that this corresponds to `midashigo1`, not `midashigo`\n",
    "]"
   ]
  },
  {
   "cell_type": "markdown",
   "execution_count": null,
   "metadata": {},
   "outputs": [],
   "source": [
    "## Notes on 'ac' column:\n",
    "- 0 = low pitch\n",
    "- 1 = high pitch\n",
    "- 2 = dropping pitch\n",
    "- Entries that end in a 0 or a 1 mean that the trailing particle attaches high.\n",
    "- Entries that end in a 2 mean that the trailing particle attaches low\n",
    "  i.e. there is a pitch drop between the last mora of the word and the\n",
    "  following one.\n",
    "\n",
    "If 'ac' begins with a 1, a leading 0 has been ommitted.\n",
    "\n",
    "## Notes on 'nopronouncepos' and 'nasalpos'\n",
    "no idea what's going on here.\n",
    "\n",
    "# Parse DataFrame:\n",
    "This is what it looks like:"
   ]
  },
  {
   "cell_type": "code",
   "execution_count": null,
   "metadata": {},
   "outputs": [],
   "source": [
    "accent = utils.process_accent_data(ACCENT_FILEPATH, USEFUL_COLUMNS).rename(columns={\n",
    "    'ACT':'sem_word_id',\n",
    "    'ID':'word_id',\n",
    "    'nhk':'word',\n",
    "    'kanjiexpr':'kanji',\n",
    "    'numberchars':'midashigo_alt_len',\n",
    "    'midashigo1':'midashigo_alt',\n",
    "    'akusentosuu':'n_accents',\n",
    "    'ac':'accent',\n",
    "}) #.reindex(columns=['word', 'kanji', 'midashigo', 'midashigo_alt', 'accent'])\n",
    "\n",
    "accent"
   ]
  },
  {
   "cell_type": "markdown",
   "execution_count": null,
   "metadata": {},
   "outputs": [],
   "source": [
    "# How to flatten:\n",
    "- midashigo + midashigo_alt\n",
    "- word + kanji\n",
    " \n",
    "## midashigo + midashigo_alt\n",
    "Need to ignore variations with `ー`, but preserve variations in pronunciation\n",
    "\n",
    "It seems as if there is a separate row for each pronunciation, or way of\n",
    "writing the pronunciation (filled in the `mishidago` column)."
   ]
  },
  {
   "cell_type": "code",
   "execution_count": null,
   "metadata": {},
   "outputs": [],
   "source": [
    "# Show only rows where ID is repeated.\n",
    "# accent[accent.word_id.isin(accent[accent.word_id.duplicated()].word_id)]\n",
    "accent[accent.sem_word_id.isin(accent[accent.sem_word_id.duplicated()].sem_word_id)]"
   ]
  },
  {
   "cell_type": "markdown",
   "execution_count": null,
   "metadata": {},
   "outputs": [],
   "source": [
    "- Is there an entry in midashigo_alt that doesn't exist in midashigo?\n",
    "- Is it reasonable to drop midashigo, and drop any duplicated columns?\n",
    "  Alternative phonetic spellings shouldn't affect the pitch accent.\n"
   ]
  },
  {
   "cell_type": "code",
   "execution_count": null,
   "metadata": {},
   "outputs": [],
   "source": [
    "# accent.groupby('word_id').apply(lambda x: x[x.midashigo_alt.unique()])\n",
    "no_dups = accent.drop_duplicates(['word_id','midashigo_alt'])\n",
    "\n",
    "# %timeit [utils.mora_split(word, accent) for word, accent in zip(no_dups.midashigo_alt, no_dups.accent)]\n",
    "# 815 ms ± 104 ms per loop (mean ± std. dev. of 7 runs, 1 loop each)\n",
    "# %timeit no_dups.apply(lambda x: utils.mora_split(x.midashigo_alt, x.accent), axis=1)\n",
    "# 3.72 s ± 339 ms per loop (mean ± std. dev. of 7 runs, 1 loop each)\n",
    "\n",
    "no_dups['mora'] = [\n",
    "    utils.mora_split(word, accent) \n",
    "    for word, accent \n",
    "    in zip(no_dups.midashigo_alt, no_dups.accent)\n",
    "]"
   ]
  },
  {
   "cell_type": "code",
   "execution_count": null,
   "metadata": {},
   "outputs": [],
   "source": [
    "# Isolate single mora words\n",
    "no_dups.loc[no_dups.mora.str.len() == 1, [\n",
    "    'word_id',\n",
    "    'sem_word_id',\n",
    "    'word',\n",
    "    'kanji',\n",
    "    'n_accents',\n",
    "    'mora'\n",
    "]].reset_index().drop(columns='index').to_pickle(\"data/single_mora_words.pickle\")\n"
   ]
  }
 ],
 "metadata": {
  "kernelspec": {
   "display_name": "Python 3",
   "language": "python",
   "name": "python3"
  },
  "language_info": {
   "codemirror_mode": {
    "name": "ipython",
    "version": 3
   },
   "file_extension": ".py",
   "mimetype": "text/x-python",
   "name": "python",
   "nbconvert_exporter": "python",
   "pygments_lexer": "ipython3",
   "version": "3.7.6-final"
  }
 },
 "nbformat": 4,
 "nbformat_minor": 4
}