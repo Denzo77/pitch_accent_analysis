{
 "cells": [
  {
   "cell_type": "code",
   "execution_count": 1,
   "metadata": {},
   "outputs": [],
   "source": [
    "import pandas as pd\n",
    "import utils\n",
    "\n",
    "ACCENT_FILEPATH = \"data/ACCDB_unicode.csv\"\n",
    "USEFUL_COLUMNS = [\n",
    "#     'NID', # Unique ID. Ignore as we can just use the row index for this.\n",
    "    'ID', # ID unique to word & accent (same word with different accents have new `ID`)\n",
    "    'ACT', # ??? ID unique to each word? This seems to be unique across semantic words, but doesn't distinguish accents.\n",
    "    'midashigo', # Literally \"title word/keyword/entry word\"\n",
    "    'nhk', # Kanji?\n",
    "    'kanjiexpr', # Kanji 2?\n",
    "#     'NHKexpr', # This seems to combine nhk and kanjiexpr\n",
    "    'numberchars', # This is the length of one of the other columns... (midashigo?)\n",
    "#     'nopronouncepos', # len(midashigo1)\n",
    "#     'majiri', # Literally means \"mixed\". Probably an example phrase.\n",
    "#     'kaisi', # Literally \"start\". Probably the starting location of the word within `majiri`.\n",
    "    'midashigo1', # as `midashigo`, but also adds characters for things like word boundaries.\n",
    "    'akusentosuu', # I think this is \"accent+number\". Maybe the number of different accents a word can be pronounced with?\n",
    "#     'bunshou', # Literally \"sentence\". I think this is 1 when `majiri` contains an example sentence.\n",
    "    'ac', # This seems to be a list of mora accents. Note that this corresponds to `midashigo1`, not `midashigo`\n",
    "]"
   ]
  },
  {
   "cell_type": "markdown",
   "execution_count": 23,
   "metadata": {},
   "outputs": [
    {
     "ename": "SyntaxError",
     "evalue": "invalid syntax (<ipython-input-23-df6f7c0561e2>, line 2)",
     "output_type": "error",
     "traceback": [
      "\u001b[0;36m  File \u001b[0;32m\"<ipython-input-23-df6f7c0561e2>\"\u001b[0;36m, line \u001b[0;32m2\u001b[0m\n\u001b[0;31m    - 0 = low pitch\u001b[0m\n\u001b[0m                  ^\u001b[0m\n\u001b[0;31mSyntaxError\u001b[0m\u001b[0;31m:\u001b[0m invalid syntax\n"
     ]
    }
   ],
   "source": [
    "## Notes on 'ac' column:\n",
    "- 0 = low pitch\n",
    "- 1 = high pitch\n",
    "- 2 = dropping pitch\n",
    "- Entries that end in a 1 mean that the trailing particle attaches high.\n",
    "- Entries that end in a 2 mean that the trailing particle attaches low\n",
    "  i.e. there is a pitch drop between the last mora of the word and the\n",
    "  following one.\n",
    "\n",
    "If 'ac' begins with a 1, a leading 0 has been ommitted.\n",
    "\n",
    "## Notes on 'nopronouncepos' and 'nasalpos'\n",
    "no idea what's going on here.\n",
    "\n",
    "# Parse DataFrame:\n",
    "This is what it looks like:"
   ]
  },
  {
   "cell_type": "code",
   "execution_count": 2,
   "metadata": {},
   "outputs": [
    {
     "data": {
      "text/html": "<div>\n<style scoped>\n    .dataframe tbody tr th:only-of-type {\n        vertical-align: middle;\n    }\n\n    .dataframe tbody tr th {\n        vertical-align: top;\n    }\n\n    .dataframe thead th {\n        text-align: right;\n    }\n</style>\n<table border=\"1\" class=\"dataframe\">\n  <thead>\n    <tr style=\"text-align: right;\">\n      <th></th>\n      <th>word_id</th>\n      <th>sem_word_id</th>\n      <th>midashigo</th>\n      <th>word</th>\n      <th>kanji</th>\n      <th>midashigo_alt_len</th>\n      <th>midashigo_alt</th>\n      <th>n_accents</th>\n      <th>accent</th>\n    </tr>\n  </thead>\n  <tbody>\n    <tr>\n      <th>0</th>\n      <td>1</td>\n      <td>100010010</td>\n      <td>アー</td>\n      <td>ああ</td>\n      <td>嗚呼</td>\n      <td>2</td>\n      <td>アー</td>\n      <td>1</td>\n      <td>20</td>\n    </tr>\n    <tr>\n      <th>1</th>\n      <td>1</td>\n      <td>100010010</td>\n      <td>アア</td>\n      <td>ああ</td>\n      <td>嗚呼</td>\n      <td>2</td>\n      <td>アー</td>\n      <td>1</td>\n      <td>20</td>\n    </tr>\n    <tr>\n      <th>2</th>\n      <td>2</td>\n      <td>100020010</td>\n      <td>アー</td>\n      <td>ああ</td>\n      <td>ああ</td>\n      <td>2</td>\n      <td>アー</td>\n      <td>1</td>\n      <td>01</td>\n    </tr>\n    <tr>\n      <th>3</th>\n      <td>2</td>\n      <td>100020010</td>\n      <td>アア</td>\n      <td>ああ</td>\n      <td>ああ</td>\n      <td>2</td>\n      <td>アー</td>\n      <td>1</td>\n      <td>01</td>\n    </tr>\n    <tr>\n      <th>4</th>\n      <td>3</td>\n      <td>100030010</td>\n      <td>アークトー</td>\n      <td>アーク灯</td>\n      <td>アーク灯</td>\n      <td>5</td>\n      <td>アークトー</td>\n      <td>1</td>\n      <td>01111</td>\n    </tr>\n    <tr>\n      <th>...</th>\n      <td>...</td>\n      <td>...</td>\n      <td>...</td>\n      <td>...</td>\n      <td>...</td>\n      <td>...</td>\n      <td>...</td>\n      <td>...</td>\n      <td>...</td>\n    </tr>\n    <tr>\n      <th>101694</th>\n      <td>67654</td>\n      <td>9903000010</td>\n      <td>ブンユウ</td>\n      <td>文友</td>\n      <td>文友</td>\n      <td>4</td>\n      <td>ブンユー</td>\n      <td>1</td>\n      <td>0111</td>\n    </tr>\n    <tr>\n      <th>101695</th>\n      <td>27134</td>\n      <td>9902000010</td>\n      <td>ゴミャク</td>\n      <td>語脈</td>\n      <td>語脈</td>\n      <td>4</td>\n      <td>ゴミャク</td>\n      <td>1</td>\n      <td>0111</td>\n    </tr>\n    <tr>\n      <th>101696</th>\n      <td>78565</td>\n      <td>9904000010</td>\n      <td>ヨーバン</td>\n      <td>用番</td>\n      <td>用番</td>\n      <td>4</td>\n      <td>ヨーバン</td>\n      <td>1</td>\n      <td>2000</td>\n    </tr>\n    <tr>\n      <th>101697</th>\n      <td>78565</td>\n      <td>9904000010</td>\n      <td>ヨウバン</td>\n      <td>用番</td>\n      <td>用番</td>\n      <td>4</td>\n      <td>ヨーバン</td>\n      <td>1</td>\n      <td>2000</td>\n    </tr>\n    <tr>\n      <th>101698</th>\n      <td>23747</td>\n      <td>9901000010</td>\n      <td>ケンレン</td>\n      <td>研練</td>\n      <td>研練</td>\n      <td>4</td>\n      <td>ケンレン</td>\n      <td>1</td>\n      <td>0111</td>\n    </tr>\n  </tbody>\n</table>\n<p>101699 rows × 9 columns</p>\n</div>",
      "text/plain": "        word_id  sem_word_id midashigo  word kanji  midashigo_alt_len  \\\n0             1    100010010        アー    ああ    嗚呼                  2   \n1             1    100010010        アア    ああ    嗚呼                  2   \n2             2    100020010        アー    ああ    ああ                  2   \n3             2    100020010        アア    ああ    ああ                  2   \n4             3    100030010     アークトー  アーク灯  アーク灯                  5   \n...         ...          ...       ...   ...   ...                ...   \n101694    67654   9903000010      ブンユウ    文友    文友                  4   \n101695    27134   9902000010      ゴミャク    語脈    語脈                  4   \n101696    78565   9904000010      ヨーバン    用番    用番                  4   \n101697    78565   9904000010      ヨウバン    用番    用番                  4   \n101698    23747   9901000010      ケンレン    研練    研練                  4   \n\n       midashigo_alt  n_accents accent  \n0                 アー          1     20  \n1                 アー          1     20  \n2                 アー          1     01  \n3                 アー          1     01  \n4              アークトー          1  01111  \n...              ...        ...    ...  \n101694          ブンユー          1   0111  \n101695          ゴミャク          1   0111  \n101696          ヨーバン          1   2000  \n101697          ヨーバン          1   2000  \n101698          ケンレン          1   0111  \n\n[101699 rows x 9 columns]"
     },
     "execution_count": 2,
     "metadata": {},
     "output_type": "execute_result"
    }
   ],
   "source": [
    "accent = utils.process_accent_data(ACCENT_FILEPATH, USEFUL_COLUMNS).rename(columns={\n",
    "    'ACT':'sem_word_id',\n",
    "    'ID':'word_id',\n",
    "    'nhk':'word',\n",
    "    'kanjiexpr':'kanji',\n",
    "    'numberchars':'midashigo_alt_len',\n",
    "    'midashigo1':'midashigo_alt',\n",
    "    'akusentosuu':'n_accents',\n",
    "    'ac':'accent',\n",
    "}) #.reindex(columns=['word', 'kanji', 'midashigo', 'midashigo_alt', 'accent'])\n",
    "\n",
    "accent"
   ]
  },
  {
   "cell_type": "markdown",
   "metadata": {},
   "source": [
    "# How to flatten:\n",
    "- midashigo + midashigo_alt\n",
    "- word + kanji\n",
    " \n",
    "## midashigo + midashigo_alt\n",
    "Need to ignore variations with `ー`, but preserve variations in pronunciation\n",
    "\n",
    "It seems as if there is a separate row for each pronunciation, or way of\n",
    "writing the pronunciation (filled in the `mishidago` column)."
   ]
  },
  {
   "cell_type": "code",
   "execution_count": 3,
   "metadata": {},
   "outputs": [
    {
     "data": {
      "text/html": "<div>\n<style scoped>\n    .dataframe tbody tr th:only-of-type {\n        vertical-align: middle;\n    }\n\n    .dataframe tbody tr th {\n        vertical-align: top;\n    }\n\n    .dataframe thead th {\n        text-align: right;\n    }\n</style>\n<table border=\"1\" class=\"dataframe\">\n  <thead>\n    <tr style=\"text-align: right;\">\n      <th></th>\n      <th>word_id</th>\n      <th>sem_word_id</th>\n      <th>midashigo</th>\n      <th>word</th>\n      <th>kanji</th>\n      <th>midashigo_alt_len</th>\n      <th>midashigo_alt</th>\n      <th>n_accents</th>\n      <th>accent</th>\n    </tr>\n  </thead>\n  <tbody>\n    <tr>\n      <th>0</th>\n      <td>1</td>\n      <td>100010010</td>\n      <td>アー</td>\n      <td>ああ</td>\n      <td>嗚呼</td>\n      <td>2</td>\n      <td>アー</td>\n      <td>1</td>\n      <td>20</td>\n    </tr>\n    <tr>\n      <th>1</th>\n      <td>1</td>\n      <td>100010010</td>\n      <td>アア</td>\n      <td>ああ</td>\n      <td>嗚呼</td>\n      <td>2</td>\n      <td>アー</td>\n      <td>1</td>\n      <td>20</td>\n    </tr>\n    <tr>\n      <th>2</th>\n      <td>2</td>\n      <td>100020010</td>\n      <td>アー</td>\n      <td>ああ</td>\n      <td>ああ</td>\n      <td>2</td>\n      <td>アー</td>\n      <td>1</td>\n      <td>01</td>\n    </tr>\n    <tr>\n      <th>3</th>\n      <td>2</td>\n      <td>100020010</td>\n      <td>アア</td>\n      <td>ああ</td>\n      <td>ああ</td>\n      <td>2</td>\n      <td>アー</td>\n      <td>1</td>\n      <td>01</td>\n    </tr>\n    <tr>\n      <th>4</th>\n      <td>3</td>\n      <td>100030010</td>\n      <td>アークトー</td>\n      <td>アーク灯</td>\n      <td>アーク灯</td>\n      <td>5</td>\n      <td>アークトー</td>\n      <td>1</td>\n      <td>01111</td>\n    </tr>\n    <tr>\n      <th>...</th>\n      <td>...</td>\n      <td>...</td>\n      <td>...</td>\n      <td>...</td>\n      <td>...</td>\n      <td>...</td>\n      <td>...</td>\n      <td>...</td>\n      <td>...</td>\n    </tr>\n    <tr>\n      <th>101692</th>\n      <td>82825</td>\n      <td>6203180010</td>\n      <td>ミズドリ</td>\n      <td>水鳥</td>\n      <td>水鳥</td>\n      <td>4</td>\n      <td>ミズドリ</td>\n      <td>1</td>\n      <td>0111</td>\n    </tr>\n    <tr>\n      <th>101693</th>\n      <td>67654</td>\n      <td>9903000010</td>\n      <td>ブンユー</td>\n      <td>文友</td>\n      <td>文友</td>\n      <td>4</td>\n      <td>ブンユー</td>\n      <td>1</td>\n      <td>0111</td>\n    </tr>\n    <tr>\n      <th>101694</th>\n      <td>67654</td>\n      <td>9903000010</td>\n      <td>ブンユウ</td>\n      <td>文友</td>\n      <td>文友</td>\n      <td>4</td>\n      <td>ブンユー</td>\n      <td>1</td>\n      <td>0111</td>\n    </tr>\n    <tr>\n      <th>101696</th>\n      <td>78565</td>\n      <td>9904000010</td>\n      <td>ヨーバン</td>\n      <td>用番</td>\n      <td>用番</td>\n      <td>4</td>\n      <td>ヨーバン</td>\n      <td>1</td>\n      <td>2000</td>\n    </tr>\n    <tr>\n      <th>101697</th>\n      <td>78565</td>\n      <td>9904000010</td>\n      <td>ヨウバン</td>\n      <td>用番</td>\n      <td>用番</td>\n      <td>4</td>\n      <td>ヨーバン</td>\n      <td>1</td>\n      <td>2000</td>\n    </tr>\n  </tbody>\n</table>\n<p>62395 rows × 9 columns</p>\n</div>",
      "text/plain": "        word_id  sem_word_id midashigo  word kanji  midashigo_alt_len  \\\n0             1    100010010        アー    ああ    嗚呼                  2   \n1             1    100010010        アア    ああ    嗚呼                  2   \n2             2    100020010        アー    ああ    ああ                  2   \n3             2    100020010        アア    ああ    ああ                  2   \n4             3    100030010     アークトー  アーク灯  アーク灯                  5   \n...         ...          ...       ...   ...   ...                ...   \n101692    82825   6203180010      ミズドリ    水鳥    水鳥                  4   \n101693    67654   9903000010      ブンユー    文友    文友                  4   \n101694    67654   9903000010      ブンユウ    文友    文友                  4   \n101696    78565   9904000010      ヨーバン    用番    用番                  4   \n101697    78565   9904000010      ヨウバン    用番    用番                  4   \n\n       midashigo_alt  n_accents accent  \n0                 アー          1     20  \n1                 アー          1     20  \n2                 アー          1     01  \n3                 アー          1     01  \n4              アークトー          1  01111  \n...              ...        ...    ...  \n101692          ミズドリ          1   0111  \n101693          ブンユー          1   0111  \n101694          ブンユー          1   0111  \n101696          ヨーバン          1   2000  \n101697          ヨーバン          1   2000  \n\n[62395 rows x 9 columns]"
     },
     "execution_count": 3,
     "metadata": {},
     "output_type": "execute_result"
    }
   ],
   "source": [
    "# Show only rows where ID is repeated.\n",
    "# accent[accent.word_id.isin(accent[accent.word_id.duplicated()].word_id)]\n",
    "accent[accent.sem_word_id.isin(accent[accent.sem_word_id.duplicated()].sem_word_id)]"
   ]
  },
  {
   "cell_type": "markdown",
   "metadata": {},
   "source": [
    "- Is there an entry in midashigo_alt that doesn't exist in midashigo?\n",
    "- Is it reasonable to drop midashigo, and drop any duplicated columns?\n",
    "  Alternative phonetic spellings shouldn't affect the pitch accent.\n"
   ]
  }
 ],
 "metadata": {
  "kernelspec": {
   "display_name": "Python 3",
   "language": "python",
   "name": "python3"
  },
  "language_info": {
   "codemirror_mode": {
    "name": "ipython",
    "version": 3
   },
   "file_extension": ".py",
   "mimetype": "text/x-python",
   "name": "python",
   "nbconvert_exporter": "python",
   "pygments_lexer": "ipython3",
   "version": "3.7.6-final"
  }
 },
 "nbformat": 4,
 "nbformat_minor": 4
}